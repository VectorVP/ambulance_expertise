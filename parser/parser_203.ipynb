{
 "cells": [
  {
   "cell_type": "code",
   "execution_count": 33,
   "metadata": {},
   "outputs": [],
   "source": [
    "from bs4 import BeautifulSoup\n",
    "import pandas as pd\n",
    "import json"
   ]
  },
  {
   "cell_type": "code",
   "execution_count": 2,
   "metadata": {},
   "outputs": [],
   "source": [
    "with open('203.html', 'r') as file:\n",
    "    html_doc = file.read().replace('\\n', '')"
   ]
  },
  {
   "cell_type": "code",
   "execution_count": 3,
   "metadata": {},
   "outputs": [],
   "source": [
    "soup = BeautifulSoup(html_doc, 'html.parser')"
   ]
  },
  {
   "cell_type": "code",
   "execution_count": 4,
   "metadata": {},
   "outputs": [],
   "source": [
    "primeDocs = soup.find_all(id='primeDocs')"
   ]
  },
  {
   "cell_type": "code",
   "execution_count": 5,
   "metadata": {},
   "outputs": [],
   "source": [
    "kpi = pd.read_html('203.html')[1:]\n",
    "primeDocs_pd = pd.DataFrame(primeDocs[0])\n",
    "primeDocs_pd.columns = [\"html_mkb\"]"
   ]
  },
  {
   "cell_type": "code",
   "execution_count": 6,
   "metadata": {},
   "outputs": [],
   "source": [
    "#primeDocs_pd[\"МКБ\"] = primeDocs_pd[\"text\"].astype(str).str.findall(\"МКБ.*\\)\").str.get(0).str.replace('\\)', '')\n",
    "#primeDocs_pd[\"МКБ\"] = primeDocs_pd[\"text\"].astype(str).str.findall(\". Критерии\").str.get(0).str.replace('\\)', '')\n",
    "primeDocs_pd[\"MKB\"] = primeDocs_pd[\"html_mkb\"].astype(str).str.findall(\"10:.*\\)\").str.get(0).str.replace('\\)', '').str.replace('10:', '')\n",
    "#primeDocs_pd[\"num\"] = primeDocs_pd[\"text\"].astype(str).str.findall(\">3\\.\\d*\\.\\d*\\.\").str.get(0).str.replace('>', '')"
   ]
  },
  {
   "cell_type": "code",
   "execution_count": 7,
   "metadata": {},
   "outputs": [],
   "source": [
    "primeDocs_pd = primeDocs_pd.dropna().reset_index()\n",
    "#primeDocs_pd = primeDocs_pd.dropna(subset=['num']).reset_index()"
   ]
  },
  {
   "cell_type": "code",
   "execution_count": 8,
   "metadata": {},
   "outputs": [],
   "source": [
    "kpi_list = []\n",
    "for k in kpi:\n",
    "    #kpi_list.append(k['Критерии качества'].to_list())\n",
    "    kpi_list.append(k.iloc[:,1].to_list())"
   ]
  },
  {
   "cell_type": "code",
   "execution_count": 9,
   "metadata": {},
   "outputs": [],
   "source": [
    "primeDocs_pd['kpi'] = kpi_list"
   ]
  },
  {
   "cell_type": "code",
   "execution_count": 10,
   "metadata": {},
   "outputs": [],
   "source": [
    "primeDocs_pd['MKB'] = primeDocs_pd['MKB'].str.split(';')"
   ]
  },
  {
   "cell_type": "code",
   "execution_count": 11,
   "metadata": {},
   "outputs": [],
   "source": [
    "primeDocs_pd.to_excel('203.xls')"
   ]
  },
  {
   "cell_type": "code",
   "execution_count": 15,
   "metadata": {},
   "outputs": [
    {
     "data": {
      "text/html": [
       "<div>\n",
       "<style scoped>\n",
       "    .dataframe tbody tr th:only-of-type {\n",
       "        vertical-align: middle;\n",
       "    }\n",
       "\n",
       "    .dataframe tbody tr th {\n",
       "        vertical-align: top;\n",
       "    }\n",
       "\n",
       "    .dataframe thead th {\n",
       "        text-align: right;\n",
       "    }\n",
       "</style>\n",
       "<table border=\"1\" class=\"dataframe\">\n",
       "  <thead>\n",
       "    <tr style=\"text-align: right;\">\n",
       "      <th></th>\n",
       "      <th>MKB</th>\n",
       "      <th>kpi</th>\n",
       "    </tr>\n",
       "  </thead>\n",
       "  <tbody>\n",
       "    <tr>\n",
       "      <td>0</td>\n",
       "      <td>[ А49.8 - А49.9,  R50.0 - R50.1]</td>\n",
       "      <td>[Выполнена отоскопия, Выполнен общий (клиничес...</td>\n",
       "    </tr>\n",
       "    <tr>\n",
       "      <td>1</td>\n",
       "      <td>[ В15.9,  В16.1,  В16.9,  В17.1,  В17.2,  В17....</td>\n",
       "      <td>[Выполнен осмотр врачом-инфекционистом не позд...</td>\n",
       "    </tr>\n",
       "    <tr>\n",
       "      <td>2</td>\n",
       "      <td>[ В15.0,  В16.0,  В16.2]</td>\n",
       "      <td>[Выполнен осмотр врачом-инфекционистом не позд...</td>\n",
       "    </tr>\n",
       "    <tr>\n",
       "      <td>3</td>\n",
       "      <td>[ А98.5]</td>\n",
       "      <td>[Выполнен осмотр врачом-инфекционистом и/или в...</td>\n",
       "    </tr>\n",
       "    <tr>\n",
       "      <td>4</td>\n",
       "      <td>[ А02.0,  А02.2+,  А02.8,  А02.9,  А03,  А04, ...</td>\n",
       "      <td>[Выполнено измерение массы тела, Выполнена оце...</td>\n",
       "    </tr>\n",
       "    <tr>\n",
       "      <td>...</td>\n",
       "      <td>...</td>\n",
       "      <td>...</td>\n",
       "    </tr>\n",
       "    <tr>\n",
       "      <td>226</td>\n",
       "      <td>[ S43,  S46,  S53,  S56,  S63,  S66,  S73,  S7...</td>\n",
       "      <td>[Выполнен осмотр врачом-травматологом-ортопедо...</td>\n",
       "    </tr>\n",
       "    <tr>\n",
       "      <td>227</td>\n",
       "      <td>[ S02.4,  S02.6]</td>\n",
       "      <td>[Выполнен осмотр врачом-челюстно-лицевым хирур...</td>\n",
       "    </tr>\n",
       "    <tr>\n",
       "      <td>228</td>\n",
       "      <td>[ Т42,  Т43]</td>\n",
       "      <td>[Выполнен осмотр врачом-токсикологом и/или вра...</td>\n",
       "    </tr>\n",
       "    <tr>\n",
       "      <td>229</td>\n",
       "      <td>[ Т58]</td>\n",
       "      <td>[Выполнен осмотр врачом-токсикологом и/или вра...</td>\n",
       "    </tr>\n",
       "    <tr>\n",
       "      <td>230</td>\n",
       "      <td>[ Т40]</td>\n",
       "      <td>[Выполнен осмотр врачом-токсикологом и/или вра...</td>\n",
       "    </tr>\n",
       "  </tbody>\n",
       "</table>\n",
       "<p>231 rows × 2 columns</p>\n",
       "</div>"
      ],
      "text/plain": [
       "                                                   MKB  \\\n",
       "0                     [ А49.8 - А49.9,  R50.0 - R50.1]   \n",
       "1    [ В15.9,  В16.1,  В16.9,  В17.1,  В17.2,  В17....   \n",
       "2                             [ В15.0,  В16.0,  В16.2]   \n",
       "3                                             [ А98.5]   \n",
       "4    [ А02.0,  А02.2+,  А02.8,  А02.9,  А03,  А04, ...   \n",
       "..                                                 ...   \n",
       "226  [ S43,  S46,  S53,  S56,  S63,  S66,  S73,  S7...   \n",
       "227                                   [ S02.4,  S02.6]   \n",
       "228                                       [ Т42,  Т43]   \n",
       "229                                             [ Т58]   \n",
       "230                                             [ Т40]   \n",
       "\n",
       "                                                   kpi  \n",
       "0    [Выполнена отоскопия, Выполнен общий (клиничес...  \n",
       "1    [Выполнен осмотр врачом-инфекционистом не позд...  \n",
       "2    [Выполнен осмотр врачом-инфекционистом не позд...  \n",
       "3    [Выполнен осмотр врачом-инфекционистом и/или в...  \n",
       "4    [Выполнено измерение массы тела, Выполнена оце...  \n",
       "..                                                 ...  \n",
       "226  [Выполнен осмотр врачом-травматологом-ортопедо...  \n",
       "227  [Выполнен осмотр врачом-челюстно-лицевым хирур...  \n",
       "228  [Выполнен осмотр врачом-токсикологом и/или вра...  \n",
       "229  [Выполнен осмотр врачом-токсикологом и/или вра...  \n",
       "230  [Выполнен осмотр врачом-токсикологом и/или вра...  \n",
       "\n",
       "[231 rows x 2 columns]"
      ]
     },
     "execution_count": 15,
     "metadata": {},
     "output_type": "execute_result"
    }
   ],
   "source": [
    "primeDocs_pd[['MKB', 'kpi']]"
   ]
  },
  {
   "cell_type": "code",
   "execution_count": 31,
   "metadata": {},
   "outputs": [],
   "source": [
    "mkb = {}\n",
    "for i in primeDocs_pd.index:\n",
    "    for k in primeDocs_pd.loc[i,'MKB']:\n",
    "        mkb[k] = primeDocs_pd.loc[i,'kpi']    "
   ]
  },
  {
   "cell_type": "code",
   "execution_count": 37,
   "metadata": {},
   "outputs": [],
   "source": [
    "with open('203.json', 'w', encoding='utf-8') as outfile:\n",
    "    json.dump(mkb, outfile, ensure_ascii=False, indent=4)"
   ]
  },
  {
   "cell_type": "code",
   "execution_count": null,
   "metadata": {},
   "outputs": [],
   "source": []
  }
 ],
 "metadata": {
  "kernelspec": {
   "display_name": "Python 3",
   "language": "python",
   "name": "python3"
  },
  "language_info": {
   "codemirror_mode": {
    "name": "ipython",
    "version": 3
   },
   "file_extension": ".py",
   "mimetype": "text/x-python",
   "name": "python",
   "nbconvert_exporter": "python",
   "pygments_lexer": "ipython3",
   "version": "3.7.4"
  }
 },
 "nbformat": 4,
 "nbformat_minor": 2
}
