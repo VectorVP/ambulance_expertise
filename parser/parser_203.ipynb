{
 "cells": [
  {
   "cell_type": "code",
   "execution_count": 1,
   "metadata": {},
   "outputs": [],
   "source": [
    "from bs4 import BeautifulSoup\n",
    "import pandas as pd"
   ]
  },
  {
   "cell_type": "code",
   "execution_count": 2,
   "metadata": {},
   "outputs": [],
   "source": [
    "with open('203.html', 'r') as file:\n",
    "    html_doc = file.read().replace('\\n', '')"
   ]
  },
  {
   "cell_type": "code",
   "execution_count": 3,
   "metadata": {},
   "outputs": [],
   "source": [
    "soup = BeautifulSoup(html_doc, 'html.parser')"
   ]
  },
  {
   "cell_type": "code",
   "execution_count": 4,
   "metadata": {},
   "outputs": [],
   "source": [
    "primeDocs = soup.find_all(id='primeDocs')"
   ]
  },
  {
   "cell_type": "code",
   "execution_count": 5,
   "metadata": {},
   "outputs": [],
   "source": [
    "kpi = pd.read_html('203.html')[1:]\n",
    "primeDocs_pd = pd.DataFrame(primeDocs[0])\n",
    "primeDocs_pd.columns = [\"html_mkb\"]"
   ]
  },
  {
   "cell_type": "code",
   "execution_count": 6,
   "metadata": {},
   "outputs": [],
   "source": [
    "#primeDocs_pd[\"МКБ\"] = primeDocs_pd[\"text\"].astype(str).str.findall(\"МКБ.*\\)\").str.get(0).str.replace('\\)', '')\n",
    "#primeDocs_pd[\"МКБ\"] = primeDocs_pd[\"text\"].astype(str).str.findall(\". Критерии\").str.get(0).str.replace('\\)', '')\n",
    "primeDocs_pd[\"MKB\"] = primeDocs_pd[\"html_mkb\"].astype(str).str.findall(\"10:.*\\)\").str.get(0).str.replace('\\)', '').str.replace('10:', '')\n",
    "#primeDocs_pd[\"num\"] = primeDocs_pd[\"text\"].astype(str).str.findall(\">3\\.\\d*\\.\\d*\\.\").str.get(0).str.replace('>', '')"
   ]
  },
  {
   "cell_type": "code",
   "execution_count": 7,
   "metadata": {},
   "outputs": [],
   "source": [
    "primeDocs_pd = primeDocs_pd.dropna().reset_index()\n",
    "#primeDocs_pd = primeDocs_pd.dropna(subset=['num']).reset_index()"
   ]
  },
  {
   "cell_type": "code",
   "execution_count": 8,
   "metadata": {},
   "outputs": [],
   "source": [
    "kpi_list = []\n",
    "for k in kpi:\n",
    "    #kpi_list.append(k['Критерии качества'].to_list())\n",
    "    kpi_list.append(k.iloc[:,1].to_list())"
   ]
  },
  {
   "cell_type": "code",
   "execution_count": 9,
   "metadata": {},
   "outputs": [],
   "source": [
    "primeDocs_pd['kpi'] = kpi_list"
   ]
  },
  {
   "cell_type": "code",
   "execution_count": 14,
   "metadata": {},
   "outputs": [],
   "source": [
    "primeDocs_pd['MKB'] = primeDocs_pd['MKB'].str.split(';')"
   ]
  },
  {
   "cell_type": "code",
   "execution_count": 16,
   "metadata": {},
   "outputs": [],
   "source": [
    "primeDocs_pd.to_excel('203.xls')"
   ]
  },
  {
   "cell_type": "code",
   "execution_count": null,
   "metadata": {},
   "outputs": [],
   "source": []
  }
 ],
 "metadata": {
  "kernelspec": {
   "display_name": "Python 3",
   "language": "python",
   "name": "python3"
  },
  "language_info": {
   "codemirror_mode": {
    "name": "ipython",
    "version": 3
   },
   "file_extension": ".py",
   "mimetype": "text/x-python",
   "name": "python",
   "nbconvert_exporter": "python",
   "pygments_lexer": "ipython3",
   "version": "3.7.4"
  }
 },
 "nbformat": 4,
 "nbformat_minor": 2
}
