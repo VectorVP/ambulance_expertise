{
 "cells": [
  {
   "cell_type": "code",
   "execution_count": 1,
   "metadata": {},
   "outputs": [],
   "source": [
    "from bs4 import BeautifulSoup\n",
    "import pandas as pd\n",
    "import json"
   ]
  },
  {
   "cell_type": "code",
   "execution_count": 2,
   "metadata": {},
   "outputs": [],
   "source": [
    "with open('203.html', 'r') as file:\n",
    "    html_doc = file.read().replace('\\n', '')"
   ]
  },
  {
   "cell_type": "code",
   "execution_count": 3,
   "metadata": {},
   "outputs": [],
   "source": [
    "soup = BeautifulSoup(html_doc, 'html.parser')"
   ]
  },
  {
   "cell_type": "code",
   "execution_count": 4,
   "metadata": {},
   "outputs": [],
   "source": [
    "primeDocs = soup.find_all(id='primeDocs')"
   ]
  },
  {
   "cell_type": "code",
   "execution_count": 5,
   "metadata": {},
   "outputs": [],
   "source": [
    "kpi = pd.read_html('203.html')[1:]\n",
    "primeDocs_pd = pd.DataFrame(primeDocs[0])\n",
    "primeDocs_pd.columns = [\"html_mkb\"]"
   ]
  },
  {
   "cell_type": "code",
   "execution_count": 6,
   "metadata": {},
   "outputs": [],
   "source": [
    "#primeDocs_pd[\"МКБ\"] = primeDocs_pd[\"text\"].astype(str).str.findall(\"МКБ.*\\)\").str.get(0).str.replace('\\)', '')\n",
    "#primeDocs_pd[\"МКБ\"] = primeDocs_pd[\"text\"].astype(str).str.findall(\". Критерии\").str.get(0).str.replace('\\)', '')\n",
    "primeDocs_pd[\"MKB\"] = primeDocs_pd[\"html_mkb\"].astype(str).str.findall(\"10:.*\\)\").str.get(0).str.replace('\\)', '').str.replace('10:', '')\n",
    "#primeDocs_pd[\"num\"] = primeDocs_pd[\"text\"].astype(str).str.findall(\">3\\.\\d*\\.\\d*\\.\").str.get(0).str.replace('>', '')"
   ]
  },
  {
   "cell_type": "code",
   "execution_count": 7,
   "metadata": {},
   "outputs": [],
   "source": [
    "primeDocs_pd = primeDocs_pd.dropna().reset_index()\n",
    "#primeDocs_pd = primeDocs_pd.dropna(subset=['num']).reset_index()"
   ]
  },
  {
   "cell_type": "code",
   "execution_count": 8,
   "metadata": {},
   "outputs": [],
   "source": [
    "kpi_list = []\n",
    "for k in kpi:\n",
    "    #kpi_list.append(k['Критерии качества'].to_list())\n",
    "    kpi_list.append(k.iloc[:,1].to_list())"
   ]
  },
  {
   "cell_type": "code",
   "execution_count": 9,
   "metadata": {},
   "outputs": [],
   "source": [
    "primeDocs_pd['kpi'] = kpi_list"
   ]
  },
  {
   "cell_type": "code",
   "execution_count": 10,
   "metadata": {},
   "outputs": [],
   "source": [
    "primeDocs_pd['MKB'] = primeDocs_pd['MKB'].str.split(';')"
   ]
  },
  {
   "cell_type": "code",
   "execution_count": 11,
   "metadata": {},
   "outputs": [],
   "source": [
    "#primeDocs_pd.to_excel('203.xls')"
   ]
  },
  {
   "cell_type": "code",
   "execution_count": 12,
   "metadata": {},
   "outputs": [
    {
     "data": {
      "text/html": [
       "<div>\n",
       "<style scoped>\n",
       "    .dataframe tbody tr th:only-of-type {\n",
       "        vertical-align: middle;\n",
       "    }\n",
       "\n",
       "    .dataframe tbody tr th {\n",
       "        vertical-align: top;\n",
       "    }\n",
       "\n",
       "    .dataframe thead th {\n",
       "        text-align: right;\n",
       "    }\n",
       "</style>\n",
       "<table border=\"1\" class=\"dataframe\">\n",
       "  <thead>\n",
       "    <tr style=\"text-align: right;\">\n",
       "      <th></th>\n",
       "      <th>MKB</th>\n",
       "      <th>kpi</th>\n",
       "    </tr>\n",
       "  </thead>\n",
       "  <tbody>\n",
       "    <tr>\n",
       "      <td>0</td>\n",
       "      <td>[ А49.8 - А49.9,  R50.0 - R50.1]</td>\n",
       "      <td>[Выполнена отоскопия, Выполнен общий (клиничес...</td>\n",
       "    </tr>\n",
       "    <tr>\n",
       "      <td>1</td>\n",
       "      <td>[ В15.9,  В16.1,  В16.9,  В17.1,  В17.2,  В17....</td>\n",
       "      <td>[Выполнен осмотр врачом-инфекционистом не позд...</td>\n",
       "    </tr>\n",
       "    <tr>\n",
       "      <td>2</td>\n",
       "      <td>[ В15.0,  В16.0,  В16.2]</td>\n",
       "      <td>[Выполнен осмотр врачом-инфекционистом не позд...</td>\n",
       "    </tr>\n",
       "    <tr>\n",
       "      <td>3</td>\n",
       "      <td>[ А98.5]</td>\n",
       "      <td>[Выполнен осмотр врачом-инфекционистом и/или в...</td>\n",
       "    </tr>\n",
       "    <tr>\n",
       "      <td>4</td>\n",
       "      <td>[ А02.0,  А02.2+,  А02.8,  А02.9,  А03,  А04, ...</td>\n",
       "      <td>[Выполнено измерение массы тела, Выполнена оце...</td>\n",
       "    </tr>\n",
       "    <tr>\n",
       "      <td>...</td>\n",
       "      <td>...</td>\n",
       "      <td>...</td>\n",
       "    </tr>\n",
       "    <tr>\n",
       "      <td>226</td>\n",
       "      <td>[ S43,  S46,  S53,  S56,  S63,  S66,  S73,  S7...</td>\n",
       "      <td>[Выполнен осмотр врачом-травматологом-ортопедо...</td>\n",
       "    </tr>\n",
       "    <tr>\n",
       "      <td>227</td>\n",
       "      <td>[ S02.4,  S02.6]</td>\n",
       "      <td>[Выполнен осмотр врачом-челюстно-лицевым хирур...</td>\n",
       "    </tr>\n",
       "    <tr>\n",
       "      <td>228</td>\n",
       "      <td>[ Т42,  Т43]</td>\n",
       "      <td>[Выполнен осмотр врачом-токсикологом и/или вра...</td>\n",
       "    </tr>\n",
       "    <tr>\n",
       "      <td>229</td>\n",
       "      <td>[ Т58]</td>\n",
       "      <td>[Выполнен осмотр врачом-токсикологом и/или вра...</td>\n",
       "    </tr>\n",
       "    <tr>\n",
       "      <td>230</td>\n",
       "      <td>[ Т40]</td>\n",
       "      <td>[Выполнен осмотр врачом-токсикологом и/или вра...</td>\n",
       "    </tr>\n",
       "  </tbody>\n",
       "</table>\n",
       "<p>231 rows × 2 columns</p>\n",
       "</div>"
      ],
      "text/plain": [
       "                                                   MKB  \\\n",
       "0                     [ А49.8 - А49.9,  R50.0 - R50.1]   \n",
       "1    [ В15.9,  В16.1,  В16.9,  В17.1,  В17.2,  В17....   \n",
       "2                             [ В15.0,  В16.0,  В16.2]   \n",
       "3                                             [ А98.5]   \n",
       "4    [ А02.0,  А02.2+,  А02.8,  А02.9,  А03,  А04, ...   \n",
       "..                                                 ...   \n",
       "226  [ S43,  S46,  S53,  S56,  S63,  S66,  S73,  S7...   \n",
       "227                                   [ S02.4,  S02.6]   \n",
       "228                                       [ Т42,  Т43]   \n",
       "229                                             [ Т58]   \n",
       "230                                             [ Т40]   \n",
       "\n",
       "                                                   kpi  \n",
       "0    [Выполнена отоскопия, Выполнен общий (клиничес...  \n",
       "1    [Выполнен осмотр врачом-инфекционистом не позд...  \n",
       "2    [Выполнен осмотр врачом-инфекционистом не позд...  \n",
       "3    [Выполнен осмотр врачом-инфекционистом и/или в...  \n",
       "4    [Выполнено измерение массы тела, Выполнена оце...  \n",
       "..                                                 ...  \n",
       "226  [Выполнен осмотр врачом-травматологом-ортопедо...  \n",
       "227  [Выполнен осмотр врачом-челюстно-лицевым хирур...  \n",
       "228  [Выполнен осмотр врачом-токсикологом и/или вра...  \n",
       "229  [Выполнен осмотр врачом-токсикологом и/или вра...  \n",
       "230  [Выполнен осмотр врачом-токсикологом и/или вра...  \n",
       "\n",
       "[231 rows x 2 columns]"
      ]
     },
     "execution_count": 12,
     "metadata": {},
     "output_type": "execute_result"
    }
   ],
   "source": [
    "primeDocs_pd[['MKB', 'kpi']]"
   ]
  },
  {
   "cell_type": "code",
   "execution_count": 13,
   "metadata": {},
   "outputs": [],
   "source": [
    "mkb = {}\n",
    "for i in primeDocs_pd.index:\n",
    "    for k in primeDocs_pd.loc[i,'MKB']:\n",
    "        mkb[k] = primeDocs_pd.loc[i,'kpi']    "
   ]
  },
  {
   "cell_type": "code",
   "execution_count": 14,
   "metadata": {},
   "outputs": [],
   "source": [
    "#with open('203.json', 'w', encoding='utf-8') as outfile:\n",
    "#    json.dump(mkb, outfile, ensure_ascii=False, indent=4)"
   ]
  },
  {
   "cell_type": "code",
   "execution_count": 23,
   "metadata": {},
   "outputs": [
    {
     "data": {
      "text/plain": [
       "['Выполнена отоскопия',\n",
       " 'Выполнен общий (клинический) анализ крови развернутый не позднее 24 часов от момента поступления в стационар',\n",
       " 'Выполнено исследование уровня С-реактивного белка или прокальцитонина в крови',\n",
       " 'Выполнен общий анализ мочи не позднее 24 часов от момента поступления',\n",
       " 'Выполнено бактериологическое исследование крови на стерильность с определением чувствительности возбудителя к антибиотикам и другим лекарственным препаратам (при наличии лабораторных маркеров бактериальной инфекции)',\n",
       " 'Выполнено бактериологическое исследование мочи с определением чувствительности возбудителя к антибиотикам и другим лекарственным препаратам (при выявлении лейкоцитурии и/или бактериурии и/или нитритов в моче)',\n",
       " 'Выполнена рентгенография органов грудной клетки (при наличии лабораторных маркеров бактериальной инфекции)',\n",
       " 'Проведена терапия антибактериальными лекарственными препаратами (при подтверждении бактериальной инфекции и/или при наличии лабораторных маркеров бактериальной инфекции)',\n",
       " 'Выполнена смена терапии антибактериальными лекарственными препаратами не позднее 72 часов от момента начала антибактериальной терапии (при отсутствии снижения температуры тела)']"
      ]
     },
     "execution_count": 23,
     "metadata": {},
     "output_type": "execute_result"
    }
   ],
   "source": [
    "kpi[0]['Критерии качества'].to_list()"
   ]
  },
  {
   "cell_type": "code",
   "execution_count": 38,
   "metadata": {},
   "outputs": [],
   "source": [
    "from fuzzywuzzy import fuzz\n",
    "from fuzzywuzzy import process\n",
    "#list_base =leads['reason_clear'].unique()\n",
    "def frase_detect (list_base, frase):\n",
    "    #list_match = process.extract(frase, leads['reason_clear'].unique(), scorer=fuzz.token_set_ratio, limit=30)\n",
    "    list_match = process.extract(frase, list_base, scorer=fuzz.token_set_ratio, limit=30)\n",
    "    return list_match[0]\n",
    "\n",
    "#frase = 'напомнить'\n",
    "#str(frase_detect (list_base, frase))"
   ]
  },
  {
   "cell_type": "code",
   "execution_count": 39,
   "metadata": {},
   "outputs": [],
   "source": [
    "med_service = pd.read_excel('1.2.643.5.1.13.13.11.1070_2.10.xlsx').drop(0)"
   ]
  },
  {
   "cell_type": "code",
   "execution_count": 40,
   "metadata": {},
   "outputs": [],
   "source": [
    "list_base = med_service['NAME'].to_list()"
   ]
  },
  {
   "cell_type": "code",
   "execution_count": 41,
   "metadata": {},
   "outputs": [
    {
     "data": {
      "text/plain": [
       "\"('Осмотр органа слуха (отоскопия)', 100)\""
      ]
     },
     "execution_count": 41,
     "metadata": {},
     "output_type": "execute_result"
    }
   ],
   "source": [
    "frase = 'отоскопия'\n",
    "str(frase_detect (list_base, frase))"
   ]
  },
  {
   "cell_type": "code",
   "execution_count": 52,
   "metadata": {},
   "outputs": [],
   "source": [
    "from tqdm.notebook import trange, tqdm"
   ]
  },
  {
   "cell_type": "code",
   "execution_count": 48,
   "metadata": {},
   "outputs": [],
   "source": [
    "kpi_list = kpi[0].iloc[:,1].to_list()"
   ]
  },
  {
   "cell_type": "code",
   "execution_count": 53,
   "metadata": {},
   "outputs": [
    {
     "data": {
      "application/vnd.jupyter.widget-view+json": {
       "model_id": "df7a4be0b7194d8d9935b1cfa1475f3b",
       "version_major": 2,
       "version_minor": 0
      },
      "text/plain": [
       "HBox(children=(IntProgress(value=0, max=9), HTML(value='')))"
      ]
     },
     "metadata": {},
     "output_type": "display_data"
    },
    {
     "name": "stdout",
     "output_type": "stream",
     "text": [
      "\n"
     ]
    }
   ],
   "source": [
    "service_list = []\n",
    "for frase in tqdm(kpi_list):\n",
    "    service_list.append(frase_detect (list_base, frase)[0])"
   ]
  },
  {
   "cell_type": "code",
   "execution_count": 54,
   "metadata": {},
   "outputs": [
    {
     "data": {
      "text/plain": [
       "['Видеоотоскопия',\n",
       " 'Общий (клинический) анализ крови',\n",
       " 'Исследование уровня прокальцитонина в крови',\n",
       " 'Общий (клинический) анализ мочи',\n",
       " 'Определением чувствительности лейкоцитов крови к препаратам интерферона',\n",
       " 'Исследование уровня нитритов в моче',\n",
       " 'Прицельная рентгенография органов грудной клетки',\n",
       " 'Заушные блокады с лекарственными препаратами',\n",
       " 'Заушные блокады с лекарственными препаратами']"
      ]
     },
     "execution_count": 54,
     "metadata": {},
     "output_type": "execute_result"
    }
   ],
   "source": [
    "service_list"
   ]
  },
  {
   "cell_type": "code",
   "execution_count": 55,
   "metadata": {},
   "outputs": [],
   "source": [
    "df = kpi[0].copy()"
   ]
  },
  {
   "cell_type": "code",
   "execution_count": 57,
   "metadata": {},
   "outputs": [],
   "source": [
    "df['service']=service_list"
   ]
  },
  {
   "cell_type": "code",
   "execution_count": 63,
   "metadata": {},
   "outputs": [],
   "source": [
    "pd.set_option('display.max_colwidth', 1000)"
   ]
  },
  {
   "cell_type": "code",
   "execution_count": 64,
   "metadata": {},
   "outputs": [
    {
     "data": {
      "text/html": [
       "<div>\n",
       "<style scoped>\n",
       "    .dataframe tbody tr th:only-of-type {\n",
       "        vertical-align: middle;\n",
       "    }\n",
       "\n",
       "    .dataframe tbody tr th {\n",
       "        vertical-align: top;\n",
       "    }\n",
       "\n",
       "    .dataframe thead th {\n",
       "        text-align: right;\n",
       "    }\n",
       "</style>\n",
       "<table border=\"1\" class=\"dataframe\">\n",
       "  <thead>\n",
       "    <tr style=\"text-align: right;\">\n",
       "      <th></th>\n",
       "      <th>Критерии качества</th>\n",
       "      <th>service</th>\n",
       "    </tr>\n",
       "  </thead>\n",
       "  <tbody>\n",
       "    <tr>\n",
       "      <td>0</td>\n",
       "      <td>Выполнена отоскопия</td>\n",
       "      <td>Видеоотоскопия</td>\n",
       "    </tr>\n",
       "    <tr>\n",
       "      <td>1</td>\n",
       "      <td>Выполнен общий (клинический) анализ крови развернутый не позднее 24 часов от момента поступления в стационар</td>\n",
       "      <td>Общий (клинический) анализ крови</td>\n",
       "    </tr>\n",
       "    <tr>\n",
       "      <td>2</td>\n",
       "      <td>Выполнено исследование уровня С-реактивного белка или прокальцитонина в крови</td>\n",
       "      <td>Исследование уровня прокальцитонина в крови</td>\n",
       "    </tr>\n",
       "    <tr>\n",
       "      <td>3</td>\n",
       "      <td>Выполнен общий анализ мочи не позднее 24 часов от момента поступления</td>\n",
       "      <td>Общий (клинический) анализ мочи</td>\n",
       "    </tr>\n",
       "    <tr>\n",
       "      <td>4</td>\n",
       "      <td>Выполнено бактериологическое исследование крови на стерильность с определением чувствительности возбудителя к антибиотикам и другим лекарственным препаратам (при наличии лабораторных маркеров бактериальной инфекции)</td>\n",
       "      <td>Определением чувствительности лейкоцитов крови к препаратам интерферона</td>\n",
       "    </tr>\n",
       "    <tr>\n",
       "      <td>5</td>\n",
       "      <td>Выполнено бактериологическое исследование мочи с определением чувствительности возбудителя к антибиотикам и другим лекарственным препаратам (при выявлении лейкоцитурии и/или бактериурии и/или нитритов в моче)</td>\n",
       "      <td>Исследование уровня нитритов в моче</td>\n",
       "    </tr>\n",
       "    <tr>\n",
       "      <td>6</td>\n",
       "      <td>Выполнена рентгенография органов грудной клетки (при наличии лабораторных маркеров бактериальной инфекции)</td>\n",
       "      <td>Прицельная рентгенография органов грудной клетки</td>\n",
       "    </tr>\n",
       "    <tr>\n",
       "      <td>7</td>\n",
       "      <td>Проведена терапия антибактериальными лекарственными препаратами (при подтверждении бактериальной инфекции и/или при наличии лабораторных маркеров бактериальной инфекции)</td>\n",
       "      <td>Заушные блокады с лекарственными препаратами</td>\n",
       "    </tr>\n",
       "    <tr>\n",
       "      <td>8</td>\n",
       "      <td>Выполнена смена терапии антибактериальными лекарственными препаратами не позднее 72 часов от момента начала антибактериальной терапии (при отсутствии снижения температуры тела)</td>\n",
       "      <td>Заушные блокады с лекарственными препаратами</td>\n",
       "    </tr>\n",
       "  </tbody>\n",
       "</table>\n",
       "</div>"
      ],
      "text/plain": [
       "                                                                                                                                                                                                         Критерии качества                                                                  service\n",
       "0                                                                                                                                                                                                      Выполнена отоскопия                                                           Видеоотоскопия\n",
       "1                                                                                                             Выполнен общий (клинический) анализ крови развернутый не позднее 24 часов от момента поступления в стационар                                         Общий (клинический) анализ крови\n",
       "2                                                                                                                                            Выполнено исследование уровня С-реактивного белка или прокальцитонина в крови                              Исследование уровня прокальцитонина в крови\n",
       "3                                                                                                                                                    Выполнен общий анализ мочи не позднее 24 часов от момента поступления                                          Общий (клинический) анализ мочи\n",
       "4  Выполнено бактериологическое исследование крови на стерильность с определением чувствительности возбудителя к антибиотикам и другим лекарственным препаратам (при наличии лабораторных маркеров бактериальной инфекции)  Определением чувствительности лейкоцитов крови к препаратам интерферона\n",
       "5         Выполнено бактериологическое исследование мочи с определением чувствительности возбудителя к антибиотикам и другим лекарственным препаратам (при выявлении лейкоцитурии и/или бактериурии и/или нитритов в моче)                                      Исследование уровня нитритов в моче\n",
       "6                                                                                                               Выполнена рентгенография органов грудной клетки (при наличии лабораторных маркеров бактериальной инфекции)                         Прицельная рентгенография органов грудной клетки\n",
       "7                                                Проведена терапия антибактериальными лекарственными препаратами (при подтверждении бактериальной инфекции и/или при наличии лабораторных маркеров бактериальной инфекции)                             Заушные блокады с лекарственными препаратами\n",
       "8                                         Выполнена смена терапии антибактериальными лекарственными препаратами не позднее 72 часов от момента начала антибактериальной терапии (при отсутствии снижения температуры тела)                             Заушные блокады с лекарственными препаратами"
      ]
     },
     "execution_count": 64,
     "metadata": {},
     "output_type": "execute_result"
    }
   ],
   "source": [
    "df[['Критерии качества','service']]"
   ]
  },
  {
   "cell_type": "code",
   "execution_count": null,
   "metadata": {},
   "outputs": [],
   "source": []
  }
 ],
 "metadata": {
  "kernelspec": {
   "display_name": "Python 3",
   "language": "python",
   "name": "python3"
  },
  "language_info": {
   "codemirror_mode": {
    "name": "ipython",
    "version": 3
   },
   "file_extension": ".py",
   "mimetype": "text/x-python",
   "name": "python",
   "nbconvert_exporter": "python",
   "pygments_lexer": "ipython3",
   "version": "3.7.4"
  }
 },
 "nbformat": 4,
 "nbformat_minor": 2
}
